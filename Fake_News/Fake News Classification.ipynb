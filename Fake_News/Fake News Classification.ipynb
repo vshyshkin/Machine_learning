{
 "cells": [
  {
   "cell_type": "code",
   "execution_count": 95,
   "id": "a752d383",
   "metadata": {},
   "outputs": [],
   "source": [
    "import numpy as np\n",
    "import pandas as pd\n",
    "import tensorflow as tf\n",
    "import matplotlib.pyplot as plt\n",
    "from sklearn.model_selection import train_test_split\n",
    "from sklearn import metrics\n",
    "from sklearn.feature_extraction.text import CountVectorizer\n",
    "from sklearn.feature_extraction import text \n",
    "from sklearn.linear_model import LogisticRegression\n",
    "from sklearn.tree import DecisionTreeClassifier\n",
    "from sklearn.ensemble import RandomForestClassifier\n",
    "from sklearn.naive_bayes import MultinomialNB\n",
    "from sklearn import metrics\n",
    "from sklearn.metrics import accuracy_score,confusion_matrix\n",
    "from sklearn.metrics import plot_precision_recall_curve\n",
    "from sklearn.metrics import plot_confusion_matrix\n",
    "from nltk import word_tokenize\n",
    "from nltk.stem import WordNetLemmatizer\n",
    "import re"
   ]
  },
  {
   "cell_type": "code",
   "execution_count": 6,
   "id": "cf9fd229",
   "metadata": {},
   "outputs": [],
   "source": [
    "fake_data_path = 'E:\\Fake News Classification\\Fake.csv'\n",
    "fake_data_path = fake_data_path.replace('\\\\', '/')\n",
    "fake_data = pd.read_csv(fake_data_path)"
   ]
  },
  {
   "cell_type": "code",
   "execution_count": 7,
   "id": "9d2e830b",
   "metadata": {},
   "outputs": [],
   "source": [
    "true_data_path = 'E:\\Fake News Classification\\True.csv'\n",
    "true_data_path = true_data_path.replace('\\\\', '/')\n",
    "true_data = pd.read_csv(true_data_path)"
   ]
  },
  {
   "cell_type": "code",
   "execution_count": 8,
   "id": "2f35f0d7",
   "metadata": {},
   "outputs": [
    {
     "data": {
      "text/html": [
       "<div>\n",
       "<style scoped>\n",
       "    .dataframe tbody tr th:only-of-type {\n",
       "        vertical-align: middle;\n",
       "    }\n",
       "\n",
       "    .dataframe tbody tr th {\n",
       "        vertical-align: top;\n",
       "    }\n",
       "\n",
       "    .dataframe thead th {\n",
       "        text-align: right;\n",
       "    }\n",
       "</style>\n",
       "<table border=\"1\" class=\"dataframe\">\n",
       "  <thead>\n",
       "    <tr style=\"text-align: right;\">\n",
       "      <th></th>\n",
       "      <th>title</th>\n",
       "      <th>text</th>\n",
       "      <th>subject</th>\n",
       "      <th>date</th>\n",
       "    </tr>\n",
       "  </thead>\n",
       "  <tbody>\n",
       "    <tr>\n",
       "      <th>0</th>\n",
       "      <td>Donald Trump Sends Out Embarrassing New Year’...</td>\n",
       "      <td>Donald Trump just couldn t wish all Americans ...</td>\n",
       "      <td>News</td>\n",
       "      <td>December 31, 2017</td>\n",
       "    </tr>\n",
       "    <tr>\n",
       "      <th>1</th>\n",
       "      <td>Drunk Bragging Trump Staffer Started Russian ...</td>\n",
       "      <td>House Intelligence Committee Chairman Devin Nu...</td>\n",
       "      <td>News</td>\n",
       "      <td>December 31, 2017</td>\n",
       "    </tr>\n",
       "    <tr>\n",
       "      <th>2</th>\n",
       "      <td>Sheriff David Clarke Becomes An Internet Joke...</td>\n",
       "      <td>On Friday, it was revealed that former Milwauk...</td>\n",
       "      <td>News</td>\n",
       "      <td>December 30, 2017</td>\n",
       "    </tr>\n",
       "    <tr>\n",
       "      <th>3</th>\n",
       "      <td>Trump Is So Obsessed He Even Has Obama’s Name...</td>\n",
       "      <td>On Christmas day, Donald Trump announced that ...</td>\n",
       "      <td>News</td>\n",
       "      <td>December 29, 2017</td>\n",
       "    </tr>\n",
       "    <tr>\n",
       "      <th>4</th>\n",
       "      <td>Pope Francis Just Called Out Donald Trump Dur...</td>\n",
       "      <td>Pope Francis used his annual Christmas Day mes...</td>\n",
       "      <td>News</td>\n",
       "      <td>December 25, 2017</td>\n",
       "    </tr>\n",
       "    <tr>\n",
       "      <th>...</th>\n",
       "      <td>...</td>\n",
       "      <td>...</td>\n",
       "      <td>...</td>\n",
       "      <td>...</td>\n",
       "    </tr>\n",
       "    <tr>\n",
       "      <th>23476</th>\n",
       "      <td>McPain: John McCain Furious That Iran Treated ...</td>\n",
       "      <td>21st Century Wire says As 21WIRE reported earl...</td>\n",
       "      <td>Middle-east</td>\n",
       "      <td>January 16, 2016</td>\n",
       "    </tr>\n",
       "    <tr>\n",
       "      <th>23477</th>\n",
       "      <td>JUSTICE? Yahoo Settles E-mail Privacy Class-ac...</td>\n",
       "      <td>21st Century Wire says It s a familiar theme. ...</td>\n",
       "      <td>Middle-east</td>\n",
       "      <td>January 16, 2016</td>\n",
       "    </tr>\n",
       "    <tr>\n",
       "      <th>23478</th>\n",
       "      <td>Sunnistan: US and Allied ‘Safe Zone’ Plan to T...</td>\n",
       "      <td>Patrick Henningsen  21st Century WireRemember ...</td>\n",
       "      <td>Middle-east</td>\n",
       "      <td>January 15, 2016</td>\n",
       "    </tr>\n",
       "    <tr>\n",
       "      <th>23479</th>\n",
       "      <td>How to Blow $700 Million: Al Jazeera America F...</td>\n",
       "      <td>21st Century Wire says Al Jazeera America will...</td>\n",
       "      <td>Middle-east</td>\n",
       "      <td>January 14, 2016</td>\n",
       "    </tr>\n",
       "    <tr>\n",
       "      <th>23480</th>\n",
       "      <td>10 U.S. Navy Sailors Held by Iranian Military ...</td>\n",
       "      <td>21st Century Wire says As 21WIRE predicted in ...</td>\n",
       "      <td>Middle-east</td>\n",
       "      <td>January 12, 2016</td>\n",
       "    </tr>\n",
       "  </tbody>\n",
       "</table>\n",
       "<p>23481 rows × 4 columns</p>\n",
       "</div>"
      ],
      "text/plain": [
       "                                                   title  \\\n",
       "0       Donald Trump Sends Out Embarrassing New Year’...   \n",
       "1       Drunk Bragging Trump Staffer Started Russian ...   \n",
       "2       Sheriff David Clarke Becomes An Internet Joke...   \n",
       "3       Trump Is So Obsessed He Even Has Obama’s Name...   \n",
       "4       Pope Francis Just Called Out Donald Trump Dur...   \n",
       "...                                                  ...   \n",
       "23476  McPain: John McCain Furious That Iran Treated ...   \n",
       "23477  JUSTICE? Yahoo Settles E-mail Privacy Class-ac...   \n",
       "23478  Sunnistan: US and Allied ‘Safe Zone’ Plan to T...   \n",
       "23479  How to Blow $700 Million: Al Jazeera America F...   \n",
       "23480  10 U.S. Navy Sailors Held by Iranian Military ...   \n",
       "\n",
       "                                                    text      subject  \\\n",
       "0      Donald Trump just couldn t wish all Americans ...         News   \n",
       "1      House Intelligence Committee Chairman Devin Nu...         News   \n",
       "2      On Friday, it was revealed that former Milwauk...         News   \n",
       "3      On Christmas day, Donald Trump announced that ...         News   \n",
       "4      Pope Francis used his annual Christmas Day mes...         News   \n",
       "...                                                  ...          ...   \n",
       "23476  21st Century Wire says As 21WIRE reported earl...  Middle-east   \n",
       "23477  21st Century Wire says It s a familiar theme. ...  Middle-east   \n",
       "23478  Patrick Henningsen  21st Century WireRemember ...  Middle-east   \n",
       "23479  21st Century Wire says Al Jazeera America will...  Middle-east   \n",
       "23480  21st Century Wire says As 21WIRE predicted in ...  Middle-east   \n",
       "\n",
       "                    date  \n",
       "0      December 31, 2017  \n",
       "1      December 31, 2017  \n",
       "2      December 30, 2017  \n",
       "3      December 29, 2017  \n",
       "4      December 25, 2017  \n",
       "...                  ...  \n",
       "23476   January 16, 2016  \n",
       "23477   January 16, 2016  \n",
       "23478   January 15, 2016  \n",
       "23479   January 14, 2016  \n",
       "23480   January 12, 2016  \n",
       "\n",
       "[23481 rows x 4 columns]"
      ]
     },
     "execution_count": 8,
     "metadata": {},
     "output_type": "execute_result"
    }
   ],
   "source": [
    "fake_data"
   ]
  },
  {
   "cell_type": "code",
   "execution_count": 9,
   "id": "2bd66ef6",
   "metadata": {},
   "outputs": [
    {
     "data": {
      "text/html": [
       "<div>\n",
       "<style scoped>\n",
       "    .dataframe tbody tr th:only-of-type {\n",
       "        vertical-align: middle;\n",
       "    }\n",
       "\n",
       "    .dataframe tbody tr th {\n",
       "        vertical-align: top;\n",
       "    }\n",
       "\n",
       "    .dataframe thead th {\n",
       "        text-align: right;\n",
       "    }\n",
       "</style>\n",
       "<table border=\"1\" class=\"dataframe\">\n",
       "  <thead>\n",
       "    <tr style=\"text-align: right;\">\n",
       "      <th></th>\n",
       "      <th>title</th>\n",
       "      <th>text</th>\n",
       "      <th>subject</th>\n",
       "      <th>date</th>\n",
       "    </tr>\n",
       "  </thead>\n",
       "  <tbody>\n",
       "    <tr>\n",
       "      <th>0</th>\n",
       "      <td>As U.S. budget fight looms, Republicans flip t...</td>\n",
       "      <td>WASHINGTON (Reuters) - The head of a conservat...</td>\n",
       "      <td>politicsNews</td>\n",
       "      <td>December 31, 2017</td>\n",
       "    </tr>\n",
       "    <tr>\n",
       "      <th>1</th>\n",
       "      <td>U.S. military to accept transgender recruits o...</td>\n",
       "      <td>WASHINGTON (Reuters) - Transgender people will...</td>\n",
       "      <td>politicsNews</td>\n",
       "      <td>December 29, 2017</td>\n",
       "    </tr>\n",
       "    <tr>\n",
       "      <th>2</th>\n",
       "      <td>Senior U.S. Republican senator: 'Let Mr. Muell...</td>\n",
       "      <td>WASHINGTON (Reuters) - The special counsel inv...</td>\n",
       "      <td>politicsNews</td>\n",
       "      <td>December 31, 2017</td>\n",
       "    </tr>\n",
       "    <tr>\n",
       "      <th>3</th>\n",
       "      <td>FBI Russia probe helped by Australian diplomat...</td>\n",
       "      <td>WASHINGTON (Reuters) - Trump campaign adviser ...</td>\n",
       "      <td>politicsNews</td>\n",
       "      <td>December 30, 2017</td>\n",
       "    </tr>\n",
       "    <tr>\n",
       "      <th>4</th>\n",
       "      <td>Trump wants Postal Service to charge 'much mor...</td>\n",
       "      <td>SEATTLE/WASHINGTON (Reuters) - President Donal...</td>\n",
       "      <td>politicsNews</td>\n",
       "      <td>December 29, 2017</td>\n",
       "    </tr>\n",
       "    <tr>\n",
       "      <th>...</th>\n",
       "      <td>...</td>\n",
       "      <td>...</td>\n",
       "      <td>...</td>\n",
       "      <td>...</td>\n",
       "    </tr>\n",
       "    <tr>\n",
       "      <th>21412</th>\n",
       "      <td>'Fully committed' NATO backs new U.S. approach...</td>\n",
       "      <td>BRUSSELS (Reuters) - NATO allies on Tuesday we...</td>\n",
       "      <td>worldnews</td>\n",
       "      <td>August 22, 2017</td>\n",
       "    </tr>\n",
       "    <tr>\n",
       "      <th>21413</th>\n",
       "      <td>LexisNexis withdrew two products from Chinese ...</td>\n",
       "      <td>LONDON (Reuters) - LexisNexis, a provider of l...</td>\n",
       "      <td>worldnews</td>\n",
       "      <td>August 22, 2017</td>\n",
       "    </tr>\n",
       "    <tr>\n",
       "      <th>21414</th>\n",
       "      <td>Minsk cultural hub becomes haven from authorities</td>\n",
       "      <td>MINSK (Reuters) - In the shadow of disused Sov...</td>\n",
       "      <td>worldnews</td>\n",
       "      <td>August 22, 2017</td>\n",
       "    </tr>\n",
       "    <tr>\n",
       "      <th>21415</th>\n",
       "      <td>Vatican upbeat on possibility of Pope Francis ...</td>\n",
       "      <td>MOSCOW (Reuters) - Vatican Secretary of State ...</td>\n",
       "      <td>worldnews</td>\n",
       "      <td>August 22, 2017</td>\n",
       "    </tr>\n",
       "    <tr>\n",
       "      <th>21416</th>\n",
       "      <td>Indonesia to buy $1.14 billion worth of Russia...</td>\n",
       "      <td>JAKARTA (Reuters) - Indonesia will buy 11 Sukh...</td>\n",
       "      <td>worldnews</td>\n",
       "      <td>August 22, 2017</td>\n",
       "    </tr>\n",
       "  </tbody>\n",
       "</table>\n",
       "<p>21417 rows × 4 columns</p>\n",
       "</div>"
      ],
      "text/plain": [
       "                                                   title  \\\n",
       "0      As U.S. budget fight looms, Republicans flip t...   \n",
       "1      U.S. military to accept transgender recruits o...   \n",
       "2      Senior U.S. Republican senator: 'Let Mr. Muell...   \n",
       "3      FBI Russia probe helped by Australian diplomat...   \n",
       "4      Trump wants Postal Service to charge 'much mor...   \n",
       "...                                                  ...   \n",
       "21412  'Fully committed' NATO backs new U.S. approach...   \n",
       "21413  LexisNexis withdrew two products from Chinese ...   \n",
       "21414  Minsk cultural hub becomes haven from authorities   \n",
       "21415  Vatican upbeat on possibility of Pope Francis ...   \n",
       "21416  Indonesia to buy $1.14 billion worth of Russia...   \n",
       "\n",
       "                                                    text       subject  \\\n",
       "0      WASHINGTON (Reuters) - The head of a conservat...  politicsNews   \n",
       "1      WASHINGTON (Reuters) - Transgender people will...  politicsNews   \n",
       "2      WASHINGTON (Reuters) - The special counsel inv...  politicsNews   \n",
       "3      WASHINGTON (Reuters) - Trump campaign adviser ...  politicsNews   \n",
       "4      SEATTLE/WASHINGTON (Reuters) - President Donal...  politicsNews   \n",
       "...                                                  ...           ...   \n",
       "21412  BRUSSELS (Reuters) - NATO allies on Tuesday we...     worldnews   \n",
       "21413  LONDON (Reuters) - LexisNexis, a provider of l...     worldnews   \n",
       "21414  MINSK (Reuters) - In the shadow of disused Sov...     worldnews   \n",
       "21415  MOSCOW (Reuters) - Vatican Secretary of State ...     worldnews   \n",
       "21416  JAKARTA (Reuters) - Indonesia will buy 11 Sukh...     worldnews   \n",
       "\n",
       "                     date  \n",
       "0      December 31, 2017   \n",
       "1      December 29, 2017   \n",
       "2      December 31, 2017   \n",
       "3      December 30, 2017   \n",
       "4      December 29, 2017   \n",
       "...                   ...  \n",
       "21412    August 22, 2017   \n",
       "21413    August 22, 2017   \n",
       "21414    August 22, 2017   \n",
       "21415    August 22, 2017   \n",
       "21416    August 22, 2017   \n",
       "\n",
       "[21417 rows x 4 columns]"
      ]
     },
     "execution_count": 9,
     "metadata": {},
     "output_type": "execute_result"
    }
   ],
   "source": [
    "true_data"
   ]
  },
  {
   "cell_type": "code",
   "execution_count": 10,
   "id": "1c1144cd",
   "metadata": {},
   "outputs": [],
   "source": [
    "fake_data[\"true\"] = 0"
   ]
  },
  {
   "cell_type": "code",
   "execution_count": 11,
   "id": "7130469b",
   "metadata": {},
   "outputs": [
    {
     "data": {
      "text/html": [
       "<div>\n",
       "<style scoped>\n",
       "    .dataframe tbody tr th:only-of-type {\n",
       "        vertical-align: middle;\n",
       "    }\n",
       "\n",
       "    .dataframe tbody tr th {\n",
       "        vertical-align: top;\n",
       "    }\n",
       "\n",
       "    .dataframe thead th {\n",
       "        text-align: right;\n",
       "    }\n",
       "</style>\n",
       "<table border=\"1\" class=\"dataframe\">\n",
       "  <thead>\n",
       "    <tr style=\"text-align: right;\">\n",
       "      <th></th>\n",
       "      <th>title</th>\n",
       "      <th>text</th>\n",
       "      <th>subject</th>\n",
       "      <th>date</th>\n",
       "      <th>true</th>\n",
       "    </tr>\n",
       "  </thead>\n",
       "  <tbody>\n",
       "    <tr>\n",
       "      <th>0</th>\n",
       "      <td>Donald Trump Sends Out Embarrassing New Year’...</td>\n",
       "      <td>Donald Trump just couldn t wish all Americans ...</td>\n",
       "      <td>News</td>\n",
       "      <td>December 31, 2017</td>\n",
       "      <td>0</td>\n",
       "    </tr>\n",
       "    <tr>\n",
       "      <th>1</th>\n",
       "      <td>Drunk Bragging Trump Staffer Started Russian ...</td>\n",
       "      <td>House Intelligence Committee Chairman Devin Nu...</td>\n",
       "      <td>News</td>\n",
       "      <td>December 31, 2017</td>\n",
       "      <td>0</td>\n",
       "    </tr>\n",
       "    <tr>\n",
       "      <th>2</th>\n",
       "      <td>Sheriff David Clarke Becomes An Internet Joke...</td>\n",
       "      <td>On Friday, it was revealed that former Milwauk...</td>\n",
       "      <td>News</td>\n",
       "      <td>December 30, 2017</td>\n",
       "      <td>0</td>\n",
       "    </tr>\n",
       "    <tr>\n",
       "      <th>3</th>\n",
       "      <td>Trump Is So Obsessed He Even Has Obama’s Name...</td>\n",
       "      <td>On Christmas day, Donald Trump announced that ...</td>\n",
       "      <td>News</td>\n",
       "      <td>December 29, 2017</td>\n",
       "      <td>0</td>\n",
       "    </tr>\n",
       "    <tr>\n",
       "      <th>4</th>\n",
       "      <td>Pope Francis Just Called Out Donald Trump Dur...</td>\n",
       "      <td>Pope Francis used his annual Christmas Day mes...</td>\n",
       "      <td>News</td>\n",
       "      <td>December 25, 2017</td>\n",
       "      <td>0</td>\n",
       "    </tr>\n",
       "  </tbody>\n",
       "</table>\n",
       "</div>"
      ],
      "text/plain": [
       "                                               title  \\\n",
       "0   Donald Trump Sends Out Embarrassing New Year’...   \n",
       "1   Drunk Bragging Trump Staffer Started Russian ...   \n",
       "2   Sheriff David Clarke Becomes An Internet Joke...   \n",
       "3   Trump Is So Obsessed He Even Has Obama’s Name...   \n",
       "4   Pope Francis Just Called Out Donald Trump Dur...   \n",
       "\n",
       "                                                text subject  \\\n",
       "0  Donald Trump just couldn t wish all Americans ...    News   \n",
       "1  House Intelligence Committee Chairman Devin Nu...    News   \n",
       "2  On Friday, it was revealed that former Milwauk...    News   \n",
       "3  On Christmas day, Donald Trump announced that ...    News   \n",
       "4  Pope Francis used his annual Christmas Day mes...    News   \n",
       "\n",
       "                date  true  \n",
       "0  December 31, 2017     0  \n",
       "1  December 31, 2017     0  \n",
       "2  December 30, 2017     0  \n",
       "3  December 29, 2017     0  \n",
       "4  December 25, 2017     0  "
      ]
     },
     "execution_count": 11,
     "metadata": {},
     "output_type": "execute_result"
    }
   ],
   "source": [
    "fake_data.head(5)"
   ]
  },
  {
   "cell_type": "code",
   "execution_count": 12,
   "id": "0ab05bc1",
   "metadata": {},
   "outputs": [],
   "source": [
    "true_data[\"true\"] = 1"
   ]
  },
  {
   "cell_type": "code",
   "execution_count": 13,
   "id": "47fc527f",
   "metadata": {},
   "outputs": [
    {
     "data": {
      "text/html": [
       "<div>\n",
       "<style scoped>\n",
       "    .dataframe tbody tr th:only-of-type {\n",
       "        vertical-align: middle;\n",
       "    }\n",
       "\n",
       "    .dataframe tbody tr th {\n",
       "        vertical-align: top;\n",
       "    }\n",
       "\n",
       "    .dataframe thead th {\n",
       "        text-align: right;\n",
       "    }\n",
       "</style>\n",
       "<table border=\"1\" class=\"dataframe\">\n",
       "  <thead>\n",
       "    <tr style=\"text-align: right;\">\n",
       "      <th></th>\n",
       "      <th>title</th>\n",
       "      <th>text</th>\n",
       "      <th>subject</th>\n",
       "      <th>date</th>\n",
       "      <th>true</th>\n",
       "    </tr>\n",
       "  </thead>\n",
       "  <tbody>\n",
       "    <tr>\n",
       "      <th>0</th>\n",
       "      <td>As U.S. budget fight looms, Republicans flip t...</td>\n",
       "      <td>WASHINGTON (Reuters) - The head of a conservat...</td>\n",
       "      <td>politicsNews</td>\n",
       "      <td>December 31, 2017</td>\n",
       "      <td>1</td>\n",
       "    </tr>\n",
       "    <tr>\n",
       "      <th>1</th>\n",
       "      <td>U.S. military to accept transgender recruits o...</td>\n",
       "      <td>WASHINGTON (Reuters) - Transgender people will...</td>\n",
       "      <td>politicsNews</td>\n",
       "      <td>December 29, 2017</td>\n",
       "      <td>1</td>\n",
       "    </tr>\n",
       "    <tr>\n",
       "      <th>2</th>\n",
       "      <td>Senior U.S. Republican senator: 'Let Mr. Muell...</td>\n",
       "      <td>WASHINGTON (Reuters) - The special counsel inv...</td>\n",
       "      <td>politicsNews</td>\n",
       "      <td>December 31, 2017</td>\n",
       "      <td>1</td>\n",
       "    </tr>\n",
       "    <tr>\n",
       "      <th>3</th>\n",
       "      <td>FBI Russia probe helped by Australian diplomat...</td>\n",
       "      <td>WASHINGTON (Reuters) - Trump campaign adviser ...</td>\n",
       "      <td>politicsNews</td>\n",
       "      <td>December 30, 2017</td>\n",
       "      <td>1</td>\n",
       "    </tr>\n",
       "    <tr>\n",
       "      <th>4</th>\n",
       "      <td>Trump wants Postal Service to charge 'much mor...</td>\n",
       "      <td>SEATTLE/WASHINGTON (Reuters) - President Donal...</td>\n",
       "      <td>politicsNews</td>\n",
       "      <td>December 29, 2017</td>\n",
       "      <td>1</td>\n",
       "    </tr>\n",
       "  </tbody>\n",
       "</table>\n",
       "</div>"
      ],
      "text/plain": [
       "                                               title  \\\n",
       "0  As U.S. budget fight looms, Republicans flip t...   \n",
       "1  U.S. military to accept transgender recruits o...   \n",
       "2  Senior U.S. Republican senator: 'Let Mr. Muell...   \n",
       "3  FBI Russia probe helped by Australian diplomat...   \n",
       "4  Trump wants Postal Service to charge 'much mor...   \n",
       "\n",
       "                                                text       subject  \\\n",
       "0  WASHINGTON (Reuters) - The head of a conservat...  politicsNews   \n",
       "1  WASHINGTON (Reuters) - Transgender people will...  politicsNews   \n",
       "2  WASHINGTON (Reuters) - The special counsel inv...  politicsNews   \n",
       "3  WASHINGTON (Reuters) - Trump campaign adviser ...  politicsNews   \n",
       "4  SEATTLE/WASHINGTON (Reuters) - President Donal...  politicsNews   \n",
       "\n",
       "                 date  true  \n",
       "0  December 31, 2017      1  \n",
       "1  December 29, 2017      1  \n",
       "2  December 31, 2017      1  \n",
       "3  December 30, 2017      1  \n",
       "4  December 29, 2017      1  "
      ]
     },
     "execution_count": 13,
     "metadata": {},
     "output_type": "execute_result"
    }
   ],
   "source": [
    "true_data.head(5)"
   ]
  },
  {
   "cell_type": "code",
   "execution_count": 19,
   "id": "7db6d64f",
   "metadata": {},
   "outputs": [],
   "source": [
    "data = pd.concat([true_data, fake_data])"
   ]
  },
  {
   "cell_type": "code",
   "execution_count": 20,
   "id": "90e2cf8f",
   "metadata": {},
   "outputs": [],
   "source": [
    "data = data.sample(frac=1)"
   ]
  },
  {
   "cell_type": "code",
   "execution_count": 21,
   "id": "1e43b8ed",
   "metadata": {},
   "outputs": [],
   "source": [
    "data.reset_index(drop=True, inplace=True)"
   ]
  },
  {
   "cell_type": "code",
   "execution_count": 22,
   "id": "99c12046",
   "metadata": {},
   "outputs": [
    {
     "data": {
      "text/html": [
       "<div>\n",
       "<style scoped>\n",
       "    .dataframe tbody tr th:only-of-type {\n",
       "        vertical-align: middle;\n",
       "    }\n",
       "\n",
       "    .dataframe tbody tr th {\n",
       "        vertical-align: top;\n",
       "    }\n",
       "\n",
       "    .dataframe thead th {\n",
       "        text-align: right;\n",
       "    }\n",
       "</style>\n",
       "<table border=\"1\" class=\"dataframe\">\n",
       "  <thead>\n",
       "    <tr style=\"text-align: right;\">\n",
       "      <th></th>\n",
       "      <th>title</th>\n",
       "      <th>text</th>\n",
       "      <th>subject</th>\n",
       "      <th>date</th>\n",
       "      <th>true</th>\n",
       "    </tr>\n",
       "  </thead>\n",
       "  <tbody>\n",
       "    <tr>\n",
       "      <th>0</th>\n",
       "      <td>BLOODY 4TH OF JULY WEEKEND UPDATE: Obama’s Hom...</td>\n",
       "      <td>Just another big city destroyed by Democrats A...</td>\n",
       "      <td>politics</td>\n",
       "      <td>Jul 5, 2016</td>\n",
       "      <td>0</td>\n",
       "    </tr>\n",
       "    <tr>\n",
       "      <th>1</th>\n",
       "      <td>BREAKING: WINNING! SENATE CONFIRMS Senator Jef...</td>\n",
       "      <td>WITH A VOTE OF 52-47, SENATOR JEFF SESSIONS WA...</td>\n",
       "      <td>politics</td>\n",
       "      <td>Feb 8, 2017</td>\n",
       "      <td>0</td>\n",
       "    </tr>\n",
       "    <tr>\n",
       "      <th>2</th>\n",
       "      <td>WATCH: ABUSIVE, TRUMP-HATING Student May Be Fa...</td>\n",
       "      <td>On September 27, 2017, an unhinged, liberal, T...</td>\n",
       "      <td>left-news</td>\n",
       "      <td>Nov 24, 2017</td>\n",
       "      <td>0</td>\n",
       "    </tr>\n",
       "    <tr>\n",
       "      <th>3</th>\n",
       "      <td>Queen’s Brian May: We Don’t Want Our Music Us...</td>\n",
       "      <td>There have been many musical artists who have ...</td>\n",
       "      <td>News</td>\n",
       "      <td>June 9, 2016</td>\n",
       "      <td>0</td>\n",
       "    </tr>\n",
       "    <tr>\n",
       "      <th>4</th>\n",
       "      <td>Silicon Valley blasts Senate proposal to tax s...</td>\n",
       "      <td>SAN FRANCISCO (Reuters) - A proposal by the U....</td>\n",
       "      <td>politicsNews</td>\n",
       "      <td>November 14, 2017</td>\n",
       "      <td>1</td>\n",
       "    </tr>\n",
       "    <tr>\n",
       "      <th>...</th>\n",
       "      <td>...</td>\n",
       "      <td>...</td>\n",
       "      <td>...</td>\n",
       "      <td>...</td>\n",
       "      <td>...</td>\n",
       "    </tr>\n",
       "    <tr>\n",
       "      <th>44893</th>\n",
       "      <td>Republican Senator Lee undecided on tax bill, ...</td>\n",
       "      <td>WASHINGTON (Reuters) - U.S. Republican Senator...</td>\n",
       "      <td>politicsNews</td>\n",
       "      <td>December 14, 2017</td>\n",
       "      <td>1</td>\n",
       "    </tr>\n",
       "    <tr>\n",
       "      <th>44894</th>\n",
       "      <td>UK says defense commitment in Nordic and Balti...</td>\n",
       "      <td>LONDON (Reuters) - Britain will pledge on Mond...</td>\n",
       "      <td>worldnews</td>\n",
       "      <td>September 3, 2017</td>\n",
       "      <td>1</td>\n",
       "    </tr>\n",
       "    <tr>\n",
       "      <th>44895</th>\n",
       "      <td>Jared Kushner NEVER Registered To Vote As A “F...</td>\n",
       "      <td>Meanwhile, as President Trump continues to mee...</td>\n",
       "      <td>politics</td>\n",
       "      <td>Sep 29, 2017</td>\n",
       "      <td>0</td>\n",
       "    </tr>\n",
       "    <tr>\n",
       "      <th>44896</th>\n",
       "      <td>Richard Dreyfuss Just Showed ‘Little-Dick’ Do...</td>\n",
       "      <td>Richard Dreyfuss has provided us with some of ...</td>\n",
       "      <td>News</td>\n",
       "      <td>May 31, 2016</td>\n",
       "      <td>0</td>\n",
       "    </tr>\n",
       "    <tr>\n",
       "      <th>44897</th>\n",
       "      <td>USA TODAY ARTICLE Blames Whites For MLK Murder...</td>\n",
       "      <td>Thomas  article can be read below:My dad calle...</td>\n",
       "      <td>politics</td>\n",
       "      <td>Jan 16, 2017</td>\n",
       "      <td>0</td>\n",
       "    </tr>\n",
       "  </tbody>\n",
       "</table>\n",
       "<p>44898 rows × 5 columns</p>\n",
       "</div>"
      ],
      "text/plain": [
       "                                                   title  \\\n",
       "0      BLOODY 4TH OF JULY WEEKEND UPDATE: Obama’s Hom...   \n",
       "1      BREAKING: WINNING! SENATE CONFIRMS Senator Jef...   \n",
       "2      WATCH: ABUSIVE, TRUMP-HATING Student May Be Fa...   \n",
       "3       Queen’s Brian May: We Don’t Want Our Music Us...   \n",
       "4      Silicon Valley blasts Senate proposal to tax s...   \n",
       "...                                                  ...   \n",
       "44893  Republican Senator Lee undecided on tax bill, ...   \n",
       "44894  UK says defense commitment in Nordic and Balti...   \n",
       "44895  Jared Kushner NEVER Registered To Vote As A “F...   \n",
       "44896   Richard Dreyfuss Just Showed ‘Little-Dick’ Do...   \n",
       "44897  USA TODAY ARTICLE Blames Whites For MLK Murder...   \n",
       "\n",
       "                                                    text       subject  \\\n",
       "0      Just another big city destroyed by Democrats A...      politics   \n",
       "1      WITH A VOTE OF 52-47, SENATOR JEFF SESSIONS WA...      politics   \n",
       "2      On September 27, 2017, an unhinged, liberal, T...     left-news   \n",
       "3      There have been many musical artists who have ...          News   \n",
       "4      SAN FRANCISCO (Reuters) - A proposal by the U....  politicsNews   \n",
       "...                                                  ...           ...   \n",
       "44893  WASHINGTON (Reuters) - U.S. Republican Senator...  politicsNews   \n",
       "44894  LONDON (Reuters) - Britain will pledge on Mond...     worldnews   \n",
       "44895  Meanwhile, as President Trump continues to mee...      politics   \n",
       "44896  Richard Dreyfuss has provided us with some of ...          News   \n",
       "44897  Thomas  article can be read below:My dad calle...      politics   \n",
       "\n",
       "                     date  true  \n",
       "0             Jul 5, 2016     0  \n",
       "1             Feb 8, 2017     0  \n",
       "2            Nov 24, 2017     0  \n",
       "3            June 9, 2016     0  \n",
       "4      November 14, 2017      1  \n",
       "...                   ...   ...  \n",
       "44893  December 14, 2017      1  \n",
       "44894  September 3, 2017      1  \n",
       "44895        Sep 29, 2017     0  \n",
       "44896        May 31, 2016     0  \n",
       "44897        Jan 16, 2017     0  \n",
       "\n",
       "[44898 rows x 5 columns]"
      ]
     },
     "execution_count": 22,
     "metadata": {},
     "output_type": "execute_result"
    }
   ],
   "source": [
    "data"
   ]
  },
  {
   "cell_type": "code",
   "execution_count": 23,
   "id": "c92ad07d",
   "metadata": {},
   "outputs": [
    {
     "data": {
      "text/plain": [
       "Text(0.5, 1.0, 'subject distibution')"
      ]
     },
     "execution_count": 23,
     "metadata": {},
     "output_type": "execute_result"
    },
    {
     "data": {
      "image/png": "[encoded data removed]",
      "text/plain": [
       "<Figure size 720x720 with 1 Axes>"
      ]
     },
     "metadata": {},
     "output_type": "display_data"
    }
   ],
   "source": [
    "target_counts = data['subject'].value_counts()\n",
    "target_labels = data['subject'].unique()\n",
    "\n",
    "fig = plt.figure(figsize=(10,10))\n",
    "\n",
    "ax = plt.subplot2grid((1,1),(0,0))\n",
    "plt.pie(target_counts, labels=target_labels, rotatelabels=True, autopct='%1.1f%%')\n",
    "plt.title('subject distibution')"
   ]
  },
  {
   "cell_type": "code",
   "execution_count": 24,
   "id": "8e586cea",
   "metadata": {},
   "outputs": [
    {
     "data": {
      "text/html": [
       "<div>\n",
       "<style scoped>\n",
       "    .dataframe tbody tr th:only-of-type {\n",
       "        vertical-align: middle;\n",
       "    }\n",
       "\n",
       "    .dataframe tbody tr th {\n",
       "        vertical-align: top;\n",
       "    }\n",
       "\n",
       "    .dataframe thead th {\n",
       "        text-align: right;\n",
       "    }\n",
       "</style>\n",
       "<table border=\"1\" class=\"dataframe\">\n",
       "  <thead>\n",
       "    <tr style=\"text-align: right;\">\n",
       "      <th></th>\n",
       "      <th>title</th>\n",
       "      <th>text</th>\n",
       "      <th>date</th>\n",
       "      <th>true</th>\n",
       "      <th>subject_Government News</th>\n",
       "      <th>subject_Middle-east</th>\n",
       "      <th>subject_News</th>\n",
       "      <th>subject_US_News</th>\n",
       "      <th>subject_left-news</th>\n",
       "      <th>subject_politics</th>\n",
       "      <th>subject_politicsNews</th>\n",
       "      <th>subject_worldnews</th>\n",
       "    </tr>\n",
       "  </thead>\n",
       "  <tbody>\n",
       "    <tr>\n",
       "      <th>0</th>\n",
       "      <td>BLOODY 4TH OF JULY WEEKEND UPDATE: Obama’s Hom...</td>\n",
       "      <td>Just another big city destroyed by Democrats A...</td>\n",
       "      <td>Jul 5, 2016</td>\n",
       "      <td>0</td>\n",
       "      <td>0</td>\n",
       "      <td>0</td>\n",
       "      <td>0</td>\n",
       "      <td>0</td>\n",
       "      <td>0</td>\n",
       "      <td>1</td>\n",
       "      <td>0</td>\n",
       "      <td>0</td>\n",
       "    </tr>\n",
       "    <tr>\n",
       "      <th>1</th>\n",
       "      <td>BREAKING: WINNING! SENATE CONFIRMS Senator Jef...</td>\n",
       "      <td>WITH A VOTE OF 52-47, SENATOR JEFF SESSIONS WA...</td>\n",
       "      <td>Feb 8, 2017</td>\n",
       "      <td>0</td>\n",
       "      <td>0</td>\n",
       "      <td>0</td>\n",
       "      <td>0</td>\n",
       "      <td>0</td>\n",
       "      <td>0</td>\n",
       "      <td>1</td>\n",
       "      <td>0</td>\n",
       "      <td>0</td>\n",
       "    </tr>\n",
       "    <tr>\n",
       "      <th>2</th>\n",
       "      <td>WATCH: ABUSIVE, TRUMP-HATING Student May Be Fa...</td>\n",
       "      <td>On September 27, 2017, an unhinged, liberal, T...</td>\n",
       "      <td>Nov 24, 2017</td>\n",
       "      <td>0</td>\n",
       "      <td>0</td>\n",
       "      <td>0</td>\n",
       "      <td>0</td>\n",
       "      <td>0</td>\n",
       "      <td>1</td>\n",
       "      <td>0</td>\n",
       "      <td>0</td>\n",
       "      <td>0</td>\n",
       "    </tr>\n",
       "    <tr>\n",
       "      <th>3</th>\n",
       "      <td>Queen’s Brian May: We Don’t Want Our Music Us...</td>\n",
       "      <td>There have been many musical artists who have ...</td>\n",
       "      <td>June 9, 2016</td>\n",
       "      <td>0</td>\n",
       "      <td>0</td>\n",
       "      <td>0</td>\n",
       "      <td>1</td>\n",
       "      <td>0</td>\n",
       "      <td>0</td>\n",
       "      <td>0</td>\n",
       "      <td>0</td>\n",
       "      <td>0</td>\n",
       "    </tr>\n",
       "    <tr>\n",
       "      <th>4</th>\n",
       "      <td>Silicon Valley blasts Senate proposal to tax s...</td>\n",
       "      <td>SAN FRANCISCO (Reuters) - A proposal by the U....</td>\n",
       "      <td>November 14, 2017</td>\n",
       "      <td>1</td>\n",
       "      <td>0</td>\n",
       "      <td>0</td>\n",
       "      <td>0</td>\n",
       "      <td>0</td>\n",
       "      <td>0</td>\n",
       "      <td>0</td>\n",
       "      <td>1</td>\n",
       "      <td>0</td>\n",
       "    </tr>\n",
       "  </tbody>\n",
       "</table>\n",
       "</div>"
      ],
      "text/plain": [
       "                                               title  \\\n",
       "0  BLOODY 4TH OF JULY WEEKEND UPDATE: Obama’s Hom...   \n",
       "1  BREAKING: WINNING! SENATE CONFIRMS Senator Jef...   \n",
       "2  WATCH: ABUSIVE, TRUMP-HATING Student May Be Fa...   \n",
       "3   Queen’s Brian May: We Don’t Want Our Music Us...   \n",
       "4  Silicon Valley blasts Senate proposal to tax s...   \n",
       "\n",
       "                                                text                date  \\\n",
       "0  Just another big city destroyed by Democrats A...         Jul 5, 2016   \n",
       "1  WITH A VOTE OF 52-47, SENATOR JEFF SESSIONS WA...         Feb 8, 2017   \n",
       "2  On September 27, 2017, an unhinged, liberal, T...        Nov 24, 2017   \n",
       "3  There have been many musical artists who have ...        June 9, 2016   \n",
       "4  SAN FRANCISCO (Reuters) - A proposal by the U....  November 14, 2017    \n",
       "\n",
       "   true  subject_Government News  subject_Middle-east  subject_News  \\\n",
       "0     0                        0                    0             0   \n",
       "1     0                        0                    0             0   \n",
       "2     0                        0                    0             0   \n",
       "3     0                        0                    0             1   \n",
       "4     1                        0                    0             0   \n",
       "\n",
       "   subject_US_News  subject_left-news  subject_politics  subject_politicsNews  \\\n",
       "0                0                  0                 1                     0   \n",
       "1                0                  0                 1                     0   \n",
       "2                0                  1                 0                     0   \n",
       "3                0                  0                 0                     0   \n",
       "4                0                  0                 0                     1   \n",
       "\n",
       "   subject_worldnews  \n",
       "0                  0  \n",
       "1                  0  \n",
       "2                  0  \n",
       "3                  0  \n",
       "4                  0  "
      ]
     },
     "execution_count": 24,
     "metadata": {},
     "output_type": "execute_result"
    }
   ],
   "source": [
    "data = pd.get_dummies(data, columns=[\"subject\"])\n",
    "data.head()"
   ]
  },
  {
   "cell_type": "code",
   "execution_count": null,
   "id": "9a84a04d",
   "metadata": {},
   "outputs": [],
   "source": [
    "def preprocess(data):\n",
    "    pattern = \"[^a-zA-Z]\"\n",
    "    lemmatizer = WordNetLemmatizer()\n",
    "    new = []\n",
    "    for txt in data:\n",
    "        txt = txt.lower()\n",
    "        txt = re.sub(pattern, \" \", txt)\n",
    "        txt = word_tokenize(txt)\n",
    "        txt = [lemmatizer.lemmatize(word) for word in txt]\n",
    "        txt = \" \".join(txt)\n",
    "        new.append(txt)\n",
    "    return new"
   ]
  },
  {
   "cell_type": "code",
   "execution_count": null,
   "id": "ff110097",
   "metadata": {},
   "outputs": [],
   "source": [
    "import nltk\n",
    "nltk.download('punkt')\n",
    "nltk.download('wordnet')"
   ]
  },
  {
   "cell_type": "code",
   "execution_count": 44,
   "id": "fd4c488e",
   "metadata": {},
   "outputs": [
    {
     "data": {
      "text/plain": [
       "'just another big city destroyed by democrat a the nation took to backyard bbqs and paused to celebrate the birth of our nation the incessant gang warfare in and around the chicago area continued without a hitch with shooting and six death over the three day weekend the tragic toll included the death of a year father and his two young girl in a nearby chicago suburb at least people were shot in the nation s third largest city over the independence day weekend including four people who were fatally wounded the grim violence in chicago which ha recorded homicide already this year continued despite stepped up street patrol by the chicago police department and the arrest of gang member in two of the city s most violent neighborhood ahead of the holiday weekend friday wa atypical in that the shooting were relatively few and no one died but the rest of the weekend more than made up for it friday featured only five citizen wounded all in separate incident saturday rang in with a vengeance with shooting and two death while sunday saw shooting and one death sunday also saw an additional three people murdered in a nearby suburb by independence day itself another four citizen were wounded one of the most tragic shooting of the holiday weekend wa the death of year old dionus m neely who wa shot and killed along with his ten year old and three year old daughter elle and india the murder took place in the nearby chicago suburb of hazel crest on sunday morning just after am police report anyone who could kill a three year old and a ten year old no matter what the circumstance is nothing but pure evil a far a i m concerned hazel crest police chief mitchell davis iii said on sunday afternoon the long weekend brings the list of violence to total chicagoans shot and shot and killed among the total homicide in the windy city thus far this year breitbartreverend jesse lee peterson ha some thought on why crime is so high in majority black city and why american need to stop blaming cop for the fatherless crisis that is plaguing inner city community fatherless home combined with the left s policy and attack on free speech are creating thug and cop killer it s important to shine a light on this anti cop mentality that ha so contaminated america s inner city the underlying cause of all this of course young black men growing up without father progressive of all color have intimidated most white american with the r word racist and now white rarely comment on black criminality these same progressive are perpetuating the fatherlessness and anti police attitude that is wreaking havoc on america s inner city many black today have a serious issue with authority figure this problem start in the home and manifest itself a early a preschool a department of education study found that black make up percent of all preschool child but they account for percent of suspension education secretary arne duncan blamed the problem on racial disparity and wa stunned that we were suspending and expelling year old duncan is more stunned by the disciplinary action of the school than he is by the rotten behavior of the kid no surprise rotten kid are anti authority so are progressive attorney general eric holder said a zero tolerance approach eventually lead many student into the criminal justice system and promised to end the school to prison pipeline in other word according to holder disciplining bad kid is creating a path to prison this is progressive wisdom jesse jackson al sharpton the naacp the congressional black caucus and other leftist black leader have been excusing black criminal and stoking hatred toward police for decade the los angeles riot sparked by the police beating of rodney king resulted in the death of people but rep maxine water d calif didn t call it a riot she called it a rebellion the rap music industry ha long promoted violence toward cop the most notorious perpetrator include n w a niggaz with attitude with their f tha police lyric rapper ice t s cop killer album and dr dre and snoop dogg s about murdering cop video game like grand theft auto also reinforce anti police attitude progressive mayor are allowing thug and cop hater to flourish in our city leftist nyc mayor bill de blasio ended previous mayor rudy giuliani s successful stop question and frisk program after complaint that it unfairly targeted minority and now violent crime ha skyrocketed according to compstat figure people were shot last month a percent increase over the same period last year in chicagoland progressive policy and fatherlessness have created killing field the recent independence day massacre where shooting resulted in people killed doesn t help the city s image instead of aggressively going after chicago s gang obama former chief of staff and now mayor rahm emanuel is focused on the gun even though chicago ha some of the nation s toughest gun control law progressive have created an environment that reward irresponsibility and dependency sending welfare payment to single woman with child ha resulted in the decline of black marriage today percent of black kid are born out of wedlock since most black father are not around these child never develop respect for authority in fact they grow to hate the impatience and pressure their mother put on them recently i interviewed paul raeburn author of do father matter here are just a few of his finding when father are absent during mother s pregnancy the baby is more likely to be born prematurely the baby is four time a likely to die in the first year if the man is depressed the child is eight time a likely to have behavior problem and time a likely to have difficulty getting along with peer kid with dad around are le likely to become bully oxford researcher said when father were absent child had higher rate of aggressive behavior obviously the missing link to end the cycle of violence and the anti police attitude in the black community is to rebuild black family progressive policy of providing financial incentive for single mother who have kid out of wedlock must end progressive also bully people into not speaking truth about moral cause and effect they re not just immoral they are anti moral yet american especially white american have to start speaking out about the anti authority mindset destroying our inner city if white and black allow the lawlessness to continue the chaos and anti cop violence will spread everywhere and when police are not safe no one is safe via wnd'"
      ]
     },
     "execution_count": 44,
     "metadata": {},
     "output_type": "execute_result"
    }
   ],
   "source": [
    "text_new = preprocess(data.text)\n",
    "text_new[0]"
   ]
  },
  {
   "cell_type": "code",
   "execution_count": 46,
   "id": "09a1c36a",
   "metadata": {},
   "outputs": [
    {
     "data": {
      "text/plain": [
       "'bloody th of july weekend update obama s hometown of chicago shot killed including yr old father and yr old daughter black reverend caution those who blame gun or cop'"
      ]
     },
     "execution_count": 46,
     "metadata": {},
     "output_type": "execute_result"
    }
   ],
   "source": [
    "title_new = preprocess(data[\"title\"])\n",
    "title_new[0]"
   ]
  },
  {
   "cell_type": "code",
   "execution_count": 74,
   "id": "3e2e012c",
   "metadata": {},
   "outputs": [],
   "source": [
    "text_vectorizer = CountVectorizer(stop_words=\"english\", max_features = 4000)\n",
    "title_vectorizer = CountVectorizer(stop_words=\"english\", max_features = 1000)\n",
    "\n",
    "text_vector = text_vectorizer.fit_transform(text_new).toarray()\n",
    "title_vector = title_vectorizer.fit_transform(title_new).toarray() \n"
   ]
  },
  {
   "cell_type": "code",
   "execution_count": 83,
   "id": "379554e6",
   "metadata": {},
   "outputs": [],
   "source": [
    "data.drop([\"text\",\"title\"],inplace=True, axis=1)"
   ]
  },
  {
   "cell_type": "code",
   "execution_count": 85,
   "id": "bd413992",
   "metadata": {},
   "outputs": [],
   "source": [
    "data.drop('date', inplace=True, axis=1)"
   ]
  },
  {
   "cell_type": "code",
   "execution_count": 86,
   "id": "3808bc8a",
   "metadata": {},
   "outputs": [
    {
     "name": "stdout",
     "output_type": "stream",
     "text": [
      "<class 'pandas.core.frame.DataFrame'>\n",
      "RangeIndex: 44898 entries, 0 to 44897\n",
      "Data columns (total 9 columns):\n",
      "true                       44898 non-null int64\n",
      "subject_Government News    44898 non-null uint8\n",
      "subject_Middle-east        44898 non-null uint8\n",
      "subject_News               44898 non-null uint8\n",
      "subject_US_News            44898 non-null uint8\n",
      "subject_left-news          44898 non-null uint8\n",
      "subject_politics           44898 non-null uint8\n",
      "subject_politicsNews       44898 non-null uint8\n",
      "subject_worldnews          44898 non-null uint8\n",
      "dtypes: int64(1), uint8(8)\n",
      "memory usage: 701.7 KB\n"
     ]
    }
   ],
   "source": [
    "data.info()"
   ]
  },
  {
   "cell_type": "code",
   "execution_count": 87,
   "id": "13b6e2ef",
   "metadata": {},
   "outputs": [],
   "source": [
    "y = data['true']"
   ]
  },
  {
   "cell_type": "code",
   "execution_count": 90,
   "id": "608e845a",
   "metadata": {},
   "outputs": [],
   "source": [
    "X = np.concatenate((np.array(data.drop(\"true\", axis=1)), title_vector, text_vector), axis=1)"
   ]
  },
  {
   "cell_type": "code",
   "execution_count": 91,
   "id": "a7f4d358",
   "metadata": {},
   "outputs": [
    {
     "data": {
      "text/plain": [
       "array([[0, 0, 0, ..., 0, 0, 0],\n",
       "       [0, 0, 0, ..., 0, 0, 0],\n",
       "       [0, 0, 0, ..., 0, 0, 0],\n",
       "       ...,\n",
       "       [0, 0, 0, ..., 0, 0, 0],\n",
       "       [0, 0, 1, ..., 0, 0, 0],\n",
       "       [0, 0, 0, ..., 0, 0, 0]], dtype=int64)"
      ]
     },
     "execution_count": 91,
     "metadata": {},
     "output_type": "execute_result"
    }
   ],
   "source": [
    "X"
   ]
  },
  {
   "cell_type": "code",
   "execution_count": 38,
   "id": "86a55d15",
   "metadata": {},
   "outputs": [],
   "source": [
    "def get_top_n_words(text, n=None) -> list:\n",
    "    vec = CountVectorizer(stop_words= \"english\")\n",
    "    vec.fit(text)\n",
    "    bag_of_words = vec.transform(text)\n",
    "    sum_words = bag_of_words.sum(axis=0) \n",
    "    words_freq = [(word, sum_words[0, idx]) for word, idx in vec.vocabulary_.items()]\n",
    "    words_freq =sorted(words_freq, key = lambda x: x[1], reverse=True)\n",
    "    return words_freq[:n]"
   ]
  },
  {
   "cell_type": "code",
   "execution_count": 39,
   "id": "936c35cd",
   "metadata": {},
   "outputs": [],
   "source": [
    "list_fake = get_top_n_words(fake_data['text'], 25)\n",
    "list_true = get_top_n_words(true_data['text'], 25)"
   ]
  },
  {
   "cell_type": "code",
   "execution_count": 40,
   "id": "45a12cde",
   "metadata": {},
   "outputs": [],
   "source": [
    "fake_words = [x[0] for x in list_fake]\n",
    "num_of_fake_words = [x[1] for x in list_fake]\n",
    "\n",
    "true_words = [x[0] for x in list_true]\n",
    "num_of_true_words = [x[1] for x in list_true]"
   ]
  },
  {
   "cell_type": "code",
   "execution_count": 42,
   "id": "be0658cc",
   "metadata": {
    "scrolled": true
   },
   "outputs": [
    {
     "data": {
      "text/plain": [
       "<BarContainer object of 25 artists>"
      ]
     },
     "execution_count": 42,
     "metadata": {},
     "output_type": "execute_result"
    },
    {
     "data": {
      "image/png": "[encoded data removed]",
      "text/plain": [
       "<Figure size 2880x720 with 2 Axes>"
      ]
     },
     "metadata": {
      "needs_background": "light"
     },
     "output_type": "display_data"
    }
   ],
   "source": [
    "fig = plt.figure(figsize=(40,10))\n",
    "\n",
    "ax = plt.subplot2grid((1,2),(0,0))\n",
    "plt.title('fake')\n",
    "plt.bar(fake_words, num_of_fake_words)\n",
    "\n",
    "\n",
    "ax = plt.subplot2grid((1,2),(0,1))\n",
    "plt.title('true')\n",
    "plt.bar(true_words, num_of_true_words)"
   ]
  },
  {
   "cell_type": "code",
   "execution_count": 78,
   "id": "000d2944",
   "metadata": {},
   "outputs": [],
   "source": [
    "target_label = data['true']\n",
    "data.drop(\"true\", inplace=True, axis=1)"
   ]
  },
  {
   "cell_type": "code",
   "execution_count": 92,
   "id": "c5550747",
   "metadata": {},
   "outputs": [],
   "source": [
    "X_train, X_test, y_train, y_test = train_test_split(\n",
    "    X, np.array(y), test_size=0.3, shuffle=1)"
   ]
  },
  {
   "cell_type": "code",
   "execution_count": 93,
   "id": "5ea0ca3c",
   "metadata": {},
   "outputs": [
    {
     "name": "stdout",
     "output_type": "stream",
     "text": [
      "(31428, 5008)\n",
      "(13470, 5008)\n",
      "(31428,)\n",
      "(13470,)\n"
     ]
    }
   ],
   "source": [
    "print(X_train.shape)\n",
    "print(X_test.shape)\n",
    "print(y_train.shape)\n",
    "print(y_test.shape)"
   ]
  },
  {
   "cell_type": "markdown",
   "id": "9f58be2b",
   "metadata": {},
   "source": [
    "# Building a model"
   ]
  },
  {
   "cell_type": "code",
   "execution_count": 102,
   "id": "b64831e3",
   "metadata": {
    "scrolled": true
   },
   "outputs": [
    {
     "name": "stderr",
     "output_type": "stream",
     "text": [
      "E:\\Python_Distr\\Anaconda3\\envs\\Python_and_machine_learning\\lib\\site-packages\\sklearn\\linear_model\\_logistic.py:765: ConvergenceWarning: lbfgs failed to converge (status=1):\n",
      "STOP: TOTAL NO. of ITERATIONS REACHED LIMIT.\n",
      "\n",
      "Increase the number of iterations (max_iter) or scale the data as shown in:\n",
      "    https://scikit-learn.org/stable/modules/preprocessing.html\n",
      "Please also refer to the documentation for alternative solver options:\n",
      "    https://scikit-learn.org/stable/modules/linear_model.html#logistic-regression\n",
      "  extra_warning_msg=_LOGISTIC_SOLVER_CONVERGENCE_MSG)\n"
     ]
    },
    {
     "name": "stdout",
     "output_type": "stream",
     "text": [
      "accuracy: 99.903\n"
     ]
    },
    {
     "data": {
      "image/png": "[encoded data removed]",
      "text/plain": [
       "<Figure size 432x288 with 2 Axes>"
      ]
     },
     "metadata": {
      "needs_background": "light"
     },
     "output_type": "display_data"
    }
   ],
   "source": [
    "model_lr = LogisticRegression()\n",
    "model_lr.fit(X_train, y_train)\n",
    "pred_lr = model_lr.predict(X_test)\n",
    "\n",
    "acc_lr = accuracy_score(y_test, pred_lr)\n",
    "print(\"accuracy: %0.3f\" %(acc_lr*100))\n",
    "\n",
    "plot_confusion_matrix(model_lr, X_test, y_test)\n",
    "plt.show()"
   ]
  },
  {
   "cell_type": "code",
   "execution_count": 106,
   "id": "2269856e",
   "metadata": {},
   "outputs": [
    {
     "name": "stdout",
     "output_type": "stream",
     "text": [
      "accuracy: 99.903\n"
     ]
    },
    {
     "data": {
      "image/png": "[encoded data removed]",
      "text/plain": [
       "<Figure size 432x288 with 2 Axes>"
      ]
     },
     "metadata": {
      "needs_background": "light"
     },
     "output_type": "display_data"
    }
   ],
   "source": [
    "model_dt = DecisionTreeClassifier()\n",
    "model_dt.fit(X_train, y_train)\n",
    "pred_dt = model_dt.predict(X_test)\n",
    "\n",
    "acc_dt = accuracy_score(y_test, pred_dt)\n",
    "print(\"accuracy: %0.3f\" %(acc_lr*100))\n",
    "\n",
    "plot_confusion_matrix(model_dt, X_test, y_test)\n",
    "plt.show()"
   ]
  },
  {
   "cell_type": "code",
   "execution_count": 109,
   "id": "23d6eecc",
   "metadata": {},
   "outputs": [
    {
     "data": {
      "image/png": "[encoded data removed]",
      "text/plain": [
       "<Figure size 432x288 with 2 Axes>"
      ]
     },
     "metadata": {
      "needs_background": "light"
     },
     "output_type": "display_data"
    }
   ],
   "source": [
    "plot_confusion_matrix(model_dt, X_test, y_test, values_format='d')\n",
    "plt.show()"
   ]
  },
  {
   "cell_type": "code",
   "execution_count": 110,
   "id": "35871775",
   "metadata": {},
   "outputs": [
    {
     "name": "stdout",
     "output_type": "stream",
     "text": [
      "accuracy: 99.970\n"
     ]
    },
    {
     "data": {
      "image/png": "[encoded data removed]",
      "text/plain": [
       "<Figure size 432x288 with 2 Axes>"
      ]
     },
     "metadata": {
      "needs_background": "light"
     },
     "output_type": "display_data"
    }
   ],
   "source": [
    "model_rf = RandomForestClassifier()\n",
    "model_rf.fit(X_train, y_train)\n",
    "pred_rf = rf_model.predict(X_test)\n",
    "\n",
    "acc_rf = accuracy_score(y_test, pred_rf)\n",
    "print(\"accuracy: %0.3f\" %(rf_acc*100))\n",
    "\n",
    "plot_confusion_matrix(model_rf, X_test, y_test)\n",
    "plt.show()"
   ]
  },
  {
   "cell_type": "code",
   "execution_count": 111,
   "id": "e81a6c97",
   "metadata": {},
   "outputs": [
    {
     "name": "stdout",
     "output_type": "stream",
     "text": [
      "accuracy: 96.184\n"
     ]
    },
    {
     "data": {
      "image/png": "[encoded data removed]",
      "text/plain": [
       "<Figure size 432x288 with 2 Axes>"
      ]
     },
     "metadata": {
      "needs_background": "light"
     },
     "output_type": "display_data"
    }
   ],
   "source": [
    "model_nb = MultinomialNB()\n",
    "model_nb.fit(X_train, y_train)\n",
    "pred_nb = nbc_model.predict(X_test)\n",
    "\n",
    "acc_nb = accuracy_score(y_test, pred_nb)\n",
    "print(\"accuracy: %0.3f\" %(nbc_acc*100))\n",
    "\n",
    "plot_confusion_matrix(model_nb, X_test, y_test)\n",
    "plt.show()"
   ]
  },
  {
   "cell_type": "code",
   "execution_count": null,
   "id": "e21e8640",
   "metadata": {},
   "outputs": [],
   "source": [
    "class MyNN:\n",
    "    \n",
    "    def __init__(self):\n",
    "        \n",
    "    def add(self, layers):\n",
    "        self.layers.append(layer)\n",
    "    \n",
    "    def set_loss_func(self, func):\n",
    "        self.loss = func \n",
    "        \n",
    "    def predict(self, inp_data):\n",
    "        samples = len(inp_data)\n",
    "        result = []\n",
    "        \n",
    "        for i in range(samples): #foreach\n",
    "            input_val = inp_data[i]\n",
    "            \n",
    "            for layer in self.layers:\n",
    "                output = layer.forward_prop(input_val)\n",
    "            result.append(output)\n",
    "            \n",
    "        return result\n",
    "    \n",
    "    def fit(self, X_train, y_train):\n",
    "        samples = len(X_train)\n",
    "        \n",
    "        #train========\n",
    "        for epoch in range(epochs):\n",
    "            err = 0\n",
    "            \n",
    "            #forward propagation========\n",
    "            for i in range(samples):\n",
    "                output = X_train[i] #zmienić nazwę\n",
    "                \n",
    "                for layer in self.layers:\n",
    "                    output = layer.forward_prop(output)\n",
    "                \n",
    "                #loss==========\n",
    "                err += self.loss(y_train[i], output)\n",
    "                \n",
    "                #backward propagation========\n",
    "                outp_err = self.loss_prime(y_train[i], output)\n",
    "                for layer in reversed(self.layers):\n",
    "                    error = layer.bacward_prop(outp_err, learn_rate)\n",
    "                \n",
    "                #calc average error\n",
    "            err /= samples\n",
    "            print('epoch: {0}   error: {1}'.format(epoch, err))\n",
    "    "
   ]
  }
 ],
 "metadata": {
  "kernelspec": {
   "display_name": "Python 3",
   "language": "python",
   "name": "python3"
  },
  "language_info": {
   "codemirror_mode": {
    "name": "ipython",
    "version": 3
   },
   "file_extension": ".py",
   "mimetype": "text/x-python",
   "name": "python",
   "nbconvert_exporter": "python",
   "pygments_lexer": "ipython3",
   "version": "3.7.5"
  }
 },
 "nbformat": 4,
 "nbformat_minor": 5
}
